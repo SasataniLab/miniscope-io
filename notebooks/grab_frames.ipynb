{
 "cells": [
  {
   "cell_type": "markdown",
   "metadata": {
    "collapsed": true,
    "pycharm": {
     "name": "#%% md\n"
    }
   },
   "source": [
    "# Grabbing Frames from an SD Card\n",
    "\n",
    "The most basic example, point us at an SD card and start grabbin!"
   ]
  },
  {
   "cell_type": "code",
   "execution_count": 1,
   "metadata": {
    "pycharm": {
     "name": "#%%\n"
    }
   },
   "outputs": [],
   "source": [
    "from pprint import pprint\n",
    "from pathlib import Path\n",
    "import matplotlib.pyplot as plt\n",
    "import matplotlib.animation as animation\n",
    "from IPython.display import display, HTML\n",
    "import warnings\n",
    "warnings.filterwarnings(\"ignore\")\n",
    "\n",
    "from miniscope_io.io import SDCard\n",
    "from miniscope_io.formats import WireFreeSDLayout"
   ]
  },
  {
   "cell_type": "markdown",
   "metadata": {
    "pycharm": {
     "name": "#%% md\n"
    }
   },
   "source": [
    "The `WireFreeSDConfig` object is an instance of the `sdcard.SDLayout` class. The `SDLayout`\n",
    "class is a generic way of declaring how data is laid out on an SD card, and the WireFree layout\n",
    "is one instance of that! This layer of abstraction lets us write reusable code for grabbing\n",
    "frames, and also gives us a way of storing, communicating, and reasoning about SD card layouts\n",
    "in a way that's a little more flexible than hardcoding constants. In a future version we\n",
    "probably want to be more explicit about how to map individual sectors of the model to the\n",
    "SD card so we can do stuff like random seek and whatnot, but this will do for now!\n",
    "\n",
    "It looks like this:"
   ]
  },
  {
   "cell_type": "code",
   "execution_count": 2,
   "metadata": {
    "pycharm": {
     "name": "#%%\n"
    }
   },
   "outputs": [
    {
     "name": "stdout",
     "output_type": "stream",
     "text": [
      "{'sectors': {'header': 1022, 'config': 1023, 'data': 1024, 'size': 512},\n",
      " 'write_key0': 226277911,\n",
      " 'write_key1': 226277911,\n",
      " 'write_key2': 226277911,\n",
      " 'write_key3': 226277911,\n",
      " 'word_size': 4,\n",
      " 'header': {'gain': 4,\n",
      "            'led': 5,\n",
      "            'ewl': 6,\n",
      "            'record_length': 7,\n",
      "            'fs': 8,\n",
      "            'delay_start': 9,\n",
      "            'battery_cutoff': 10},\n",
      " 'config': {'width': 0,\n",
      "            'height': 1,\n",
      "            'fs': 2,\n",
      "            'buffer_size': 3,\n",
      "            'n_buffers_recorded': 4,\n",
      "            'n_buffers_dropped': 5},\n",
      " 'buffer': {'length': 0,\n",
      "            'linked_list': 1,\n",
      "            'frame_num': 2,\n",
      "            'buffer_count': 3,\n",
      "            'frame_buffer_count': 4,\n",
      "            'write_buffer_count': 5,\n",
      "            'dropped_buffer_count': 6,\n",
      "            'timestamp': 7,\n",
      "            'data_length': 8,\n",
      "            'write_timestamp': None,\n",
      "            'battery_voltage': None},\n",
      " 'version': '0.1.1'}\n"
     ]
    }
   ],
   "source": [
    "pprint(WireFreeSDLayout.dict(), sort_dicts=False)"
   ]
  },
  {
   "cell_type": "markdown",
   "metadata": {
    "pycharm": {
     "name": "#%% md\n"
    }
   },
   "source": [
    "Using the SDCard class with the SDLayout class is straightforward, but since I don't have a\n",
    "data sample I can't actually test that it works right now!\n",
    "\n",
    "In the future once I get an image we would want to make some jupyter widget to select possible drives,\n",
    "but for now i'll just hardcode it as a string for the sake of an example. The `SDCard` class has a\n",
    "`check_valid` method that looks for the `WRITE_KEY`s as in the prior notebook, so we could also\n",
    "make that into a classmethod and just automatically find the right drive that way."
   ]
  },
  {
   "cell_type": "code",
   "execution_count": 3,
   "metadata": {
    "pycharm": {
     "name": "#%%\n"
    }
   },
   "outputs": [],
   "source": [
    "drive = r\"\\\\.\\PhysicalDrive2\"  # Change this to the correct drive\n"
   ]
  },
  {
   "cell_type": "code",
   "execution_count": 4,
   "metadata": {},
   "outputs": [
    {
     "name": "stdout",
     "output_type": "stream",
     "text": [
      "<_io.BufferedReader name='\\\\\\\\.\\\\PhysicalDrive2'>: opened\n",
      "<_io.BufferedReader name='\\\\\\\\.\\\\PhysicalDrive2'>: opened\n",
      "<_io.BufferedReader name='\\\\\\\\.\\\\PhysicalDrive2'>: opened\n",
      "<_io.BufferedReader name='\\\\\\\\.\\\\PhysicalDrive2'>: opened\n",
      "<_io.BufferedReader name='\\\\\\\\.\\\\PhysicalDrive2'>: opened\n",
      "<_io.BufferedReader name='\\\\\\\\.\\\\PhysicalDrive2'>: opened\n",
      "<_io.BufferedReader name='\\\\\\\\.\\\\PhysicalDrive2'>: opened\n",
      "<_io.BufferedReader name='\\\\\\\\.\\\\PhysicalDrive2'>: opened\n",
      "<_io.BufferedReader name='\\\\\\\\.\\\\PhysicalDrive2'>: opened\n"
     ]
    }
   ],
   "source": [
    "for i in range(1,10):\n",
    "    f = open(drive, 'rb')\n",
    "    print(str(f) + ': opened')\n",
    "    f.close()"
   ]
  },
  {
   "cell_type": "code",
   "execution_count": 5,
   "metadata": {
    "pycharm": {
     "name": "#%%\n"
    }
   },
   "outputs": [
    {
     "ename": "PermissionError",
     "evalue": "[Errno 13] Permission denied: '\\\\\\\\.\\\\PhysicalDrive2\\\\'",
     "output_type": "error",
     "traceback": [
      "\u001b[1;31m---------------------------------------------------------------------------\u001b[0m",
      "\u001b[1;31mPermissionError\u001b[0m                           Traceback (most recent call last)",
      "Cell \u001b[1;32mIn[5], line 3\u001b[0m\n\u001b[0;32m      1\u001b[0m sd \u001b[39m=\u001b[39m SDCard(drive\u001b[39m=\u001b[39mdrive, layout \u001b[39m=\u001b[39m WireFreeSDLayout)\n\u001b[1;32m----> 3\u001b[0m pprint(sd\u001b[39m.\u001b[39;49mconfig\u001b[39m.\u001b[39mdict())\n",
      "File \u001b[1;32m~\\Documents\\GitHub\\miniscope-io\\miniscope_io\\io.py:70\u001b[0m, in \u001b[0;36mSDCard.config\u001b[1;34m(self)\u001b[0m\n\u001b[0;32m     67\u001b[0m \u001b[39m@property\u001b[39m\n\u001b[0;32m     68\u001b[0m \u001b[39mdef\u001b[39;00m \u001b[39mconfig\u001b[39m(\u001b[39mself\u001b[39m) \u001b[39m-\u001b[39m\u001b[39m>\u001b[39m SDConfig:\n\u001b[0;32m     69\u001b[0m     \u001b[39mif\u001b[39;00m \u001b[39mself\u001b[39m\u001b[39m.\u001b[39m_config \u001b[39mis\u001b[39;00m \u001b[39mNone\u001b[39;00m:\n\u001b[1;32m---> 70\u001b[0m         \u001b[39mwith\u001b[39;00m \u001b[39mopen\u001b[39;49m(\u001b[39mself\u001b[39;49m\u001b[39m.\u001b[39;49mdrive, \u001b[39m'\u001b[39;49m\u001b[39mrb\u001b[39;49m\u001b[39m'\u001b[39;49m) \u001b[39mas\u001b[39;00m sd:\n\u001b[0;32m     71\u001b[0m             sd\u001b[39m.\u001b[39mseek(\u001b[39mself\u001b[39m\u001b[39m.\u001b[39mlayout\u001b[39m.\u001b[39msectors\u001b[39m.\u001b[39mconfig_pos, \u001b[39m0\u001b[39m)\n\u001b[0;32m     72\u001b[0m             configSectorData \u001b[39m=\u001b[39m np\u001b[39m.\u001b[39mfrombuffer(sd\u001b[39m.\u001b[39mread(\u001b[39mself\u001b[39m\u001b[39m.\u001b[39mlayout\u001b[39m.\u001b[39msectors\u001b[39m.\u001b[39msize), dtype\u001b[39m=\u001b[39mnp\u001b[39m.\u001b[39muint32)\n",
      "\u001b[1;31mPermissionError\u001b[0m: [Errno 13] Permission denied: '\\\\\\\\.\\\\PhysicalDrive2\\\\'"
     ]
    }
   ],
   "source": [
    "sd = SDCard(drive=drive, layout = WireFreeSDLayout)\n",
    "\n",
    "pprint(sd.config.dict())"
   ]
  },
  {
   "cell_type": "code",
   "execution_count": null,
   "metadata": {},
   "outputs": [],
   "source": [
    "\n",
    "fig, ax = plt.subplots()\n",
    "\n",
    "# stashing the matplotlib frames to make an animation\n",
    "frames = []\n",
    "\n",
    "with sd:\n",
    "    # Seek to 5 seconds in\n",
    "    sd.frame = sd.config.fs * 5\n",
    "\n",
    "    # Play for 5 seconds\n",
    "    for i in range(sd.config.fs * 5):\n",
    "        frame = sd.read()\n",
    "        frames.append([ax.imshow(frame, cmap='gray', animated=True)])\n",
    "\n",
    "# Show animation\n",
    "anim = animation.ArtistAnimation(fig, frames, interval=sd.config.fs, blit=True)\n",
    "display(HTML(anim.to_jshtml(fps=sd.config.fs)))\n",
    "    "
   ]
  },
  {
   "cell_type": "code",
   "execution_count": null,
   "metadata": {},
   "outputs": [],
   "source": []
  }
 ],
 "metadata": {
  "celltoolbar": "Raw Cell Format",
  "kernelspec": {
   "display_name": "Python 3 (ipykernel)",
   "language": "python",
   "name": "python3"
  },
  "language_info": {
   "codemirror_mode": {
    "name": "ipython",
    "version": 3
   },
   "file_extension": ".py",
   "mimetype": "text/x-python",
   "name": "python",
   "nbconvert_exporter": "python",
   "pygments_lexer": "ipython3",
   "version": "3.10.11"
  }
 },
 "nbformat": 4,
 "nbformat_minor": 1
}
